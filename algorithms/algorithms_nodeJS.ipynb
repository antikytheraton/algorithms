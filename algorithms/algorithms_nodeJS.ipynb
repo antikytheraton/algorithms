{
 "cells": [
  {
   "cell_type": "code",
   "execution_count": 2,
   "metadata": {},
   "outputs": [
    {
     "name": "stdout",
     "output_type": "stream",
     "text": [
      "5\n",
      "4\n",
      "3\n",
      "2\n",
      "1\n",
      "0\n"
     ]
    }
   ],
   "source": [
    "// Countdown\n",
    "function countdown(i) {\n",
    "  console.log(i);\n",
    "  // base case\n",
    "  if (i <= 0) {\n",
    "    return;\n",
    "  } else {\n",
    "    countdown(i-1);\n",
    "  }\n",
    "}\n",
    "\n",
    "countdown(5);"
   ]
  },
  {
   "cell_type": "code",
   "execution_count": 3,
   "metadata": {},
   "outputs": [
    {
     "name": "stdout",
     "output_type": "stream",
     "text": [
      "hello, adit!\n",
      "how are you, adit?\n",
      "getting ready to say bye...\n",
      "ok bye!\n"
     ]
    }
   ],
   "source": [
    "// Greet 2\n",
    "function greet2(name) {\n",
    "  console.log('how are you, ' + name + '?');\n",
    "}\n",
    "\n",
    "function bye() {\n",
    "  console.log('ok bye!');\n",
    "}\n",
    "\n",
    "function greet(name) {\n",
    "  console.log('hello, ' + name + '!');\n",
    "  greet2(name);\n",
    "  console.log('getting ready to say bye...');\n",
    "  bye();\n",
    "}\n",
    "\n",
    "greet('adit');"
   ]
  },
  {
   "cell_type": "code",
   "execution_count": 4,
   "metadata": {},
   "outputs": [
    {
     "name": "stdout",
     "output_type": "stream",
     "text": [
      "120\n"
     ]
    }
   ],
   "source": [
    "// Factorial\n",
    "function fact(x) {\n",
    "  if (x === 1) {\n",
    "    return 1;\n",
    "  } else {\n",
    "    return x * fact(x-1);\n",
    "  }\n",
    "}\n",
    "\n",
    "console.log(fact(5));"
   ]
  },
  {
   "cell_type": "code",
   "execution_count": null,
   "metadata": {
    "collapsed": true
   },
   "outputs": [],
   "source": []
  }
 ],
 "metadata": {
  "kernelspec": {
   "display_name": "NodeJS",
   "language": "javascript",
   "name": "nodejs"
  },
  "language_info": {
   "codemirror_mode": "javascript",
   "file_extension": ".js",
   "mimetype": "text/javascript",
   "name": "nodejs",
   "pygments_lexer": "javascript",
   "version": "0.10"
  }
 },
 "nbformat": 4,
 "nbformat_minor": 2
}
