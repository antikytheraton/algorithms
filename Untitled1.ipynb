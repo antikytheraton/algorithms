{
 "cells": [
  {
   "cell_type": "code",
   "execution_count": 1,
   "metadata": {},
   "outputs": [
    {
     "name": "stdout",
     "output_type": "stream",
     "text": [
      "  emp_id emp_name salary start_date\n",
      "1      1     Rick 623.30 2012-01-01\n",
      "2      2      Dan 515.20 2013-09-23\n",
      "3      3 Michelle 611.00 2014-11-15\n",
      "4      4     Ryan 729.00 2014-05-11\n",
      "5      5     Gary 843.25 2015-03-27\n"
     ]
    }
   ],
   "source": [
    "# Create the data frame.\n",
    "emp.data <- data.frame(\n",
    "   emp_id = c (1:5), \n",
    "   emp_name = c(\"Rick\",\"Dan\",\"Michelle\",\"Ryan\",\"Gary\"),\n",
    "   salary = c(623.3,515.2,611.0,729.0,843.25), \n",
    "   \n",
    "   start_date = as.Date(c(\"2012-01-01\", \"2013-09-23\", \"2014-11-15\", \"2014-05-11\",\n",
    "      \"2015-03-27\")),\n",
    "   stringsAsFactors = FALSE\n",
    ")\n",
    "# Print the data frame.\t\t\t\n",
    "print(emp.data) "
   ]
  },
  {
   "cell_type": "code",
   "execution_count": 2,
   "metadata": {},
   "outputs": [
    {
     "data": {
      "text/html": [
       "<strong>png:</strong> 2"
      ],
      "text/latex": [
       "\\textbf{png:} 2"
      ],
      "text/markdown": [
       "**png:** 2"
      ],
      "text/plain": [
       "png \n",
       "  2 "
      ]
     },
     "metadata": {},
     "output_type": "display_data"
    }
   ],
   "source": [
    "# Create the predictor and response variable.\n",
    "x <- c(151, 174, 138, 186, 128, 136, 179, 163, 152, 131)\n",
    "y <- c(63, 81, 56, 91, 47, 57, 76, 72, 62, 48)\n",
    "relation <- lm(y~x)\n",
    "\n",
    "# Give the chart file a name.\n",
    "png(file = \"linearregression.png\")\n",
    "\n",
    "# Plot the chart.\n",
    "plot(y,x,col = \"blue\",main = \"Height & Weight Regression\",\n",
    "abline(lm(x~y)),cex = 1.3,pch = 16,xlab = \"Weight in Kg\",ylab = \"Height in cm\")\n",
    "\n",
    "# Save the file.\n",
    "dev.off()"
   ]
  },
  {
   "cell_type": "code",
   "execution_count": null,
   "metadata": {
    "collapsed": true
   },
   "outputs": [],
   "source": []
  }
 ],
 "metadata": {
  "kernelspec": {
   "display_name": "R",
   "language": "R",
   "name": "ir"
  },
  "language_info": {
   "codemirror_mode": "r",
   "file_extension": ".r",
   "mimetype": "text/x-r-source",
   "name": "R",
   "pygments_lexer": "r",
   "version": "3.4.1"
  }
 },
 "nbformat": 4,
 "nbformat_minor": 2
}
